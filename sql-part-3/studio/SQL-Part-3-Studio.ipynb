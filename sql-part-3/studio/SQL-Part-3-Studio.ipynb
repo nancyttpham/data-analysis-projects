{
 "cells": [
  {
   "cell_type": "markdown",
   "metadata": {},
   "source": [
    "# SQL Part 3 Studio\n",
    "\n",
    "Let's practice your SQL querying skills! For each question, work along in the notebook, adding your query and answering the questions.\n",
    "\n",
    "## The Dataset\n",
    "\n",
    "We will be using the Goodbooks-10k dataset from the exercises in the prep work. Feel free reference your previous notebooks.\n",
    "\n",
    "1. The dataset can be found here: [goodbooks-10k](https://www.kaggle.com/zygmunt/goodbooks-10k)\n",
    "1. You can access `BooksDB` in the LaunchCode server.\n",
    "\n",
    "## Business Issue\n",
    "\n",
    "You are an employee at a small independent bookstore and you have been tasked with increasing sales.  You decide to use `BooksDB` to find books and themes to highlight in fun promotions throughout each month and/or season.  We will be starting with March and then you will have a chance to explore another month of your choosing.  We want to come up with a list of promotions to run each month.  If you are looking for ideas, here are some resources on different holidays:\n",
    "\n",
    "- [https://www.calendarr.com/united-states/calendar-2022/](https://www.calendarr.com/united-states/calendar-2022/)\n",
    "- [https://www.holidayinsights.com/moreholidays/](https://www.holidayinsights.com/moreholidays/)\n",
    "    - Click on a month and it will take you to a more detailed page"
   ]
  },
  {
   "cell_type": "markdown",
   "metadata": {},
   "source": [
    "## Part 1:  March - Women's History Month, National Pie Day (3/14), St. Patrick's Day (3/17), Season - Spring"
   ]
  },
  {
   "cell_type": "markdown",
   "metadata": {},
   "source": [
    "### Event 1: Women's History Month\n",
    "\n",
    "Highlight popular women writers based on ratings from `BooksDB` by writing a query that returns `tag_id`, the number of times each `tag_id` is used and the `tag_name`. Use the `GROUP BY` and `HAVING` clause to narrow your focus and try multiple keywords, such as \"woman\" and \"female\".\n",
    "\n",
    "J.K. Rowling, Mary GrandPre\n",
    "Bisco Hatori\n",
    "Robin Hobb\n",
    "Michelle Alexander\n",
    "Julia Donaldson\n",
    "Chimamanda Ngozi Adichie\n",
    "Flannery O'Connor\n",
    "Lois McMaster Bujold"
   ]
  },
  {
   "cell_type": "code",
   "execution_count": null,
   "metadata": {
    "vscode": {
     "languageId": "sql"
    }
   },
   "outputs": [],
   "source": [
    "-- Solution\n",
    "SELECT tags.tag_id, Count(tags.tag_id) AS tag_count, tags.tag_name\n",
    "FROM BooksDB.dbo.tags AS tags\n",
    "INNER JOIN BooksDB.dbo.book_tags AS btags\n",
    "ON tags.tag_id = btags.tag_id\n",
    "Group by tags.tag_id, tags.tag_name\n",
    "HAVING tags.tag_name LIKE '%woman%' OR tags.tag_name LIKE '%female%'\n",
    "ORDER BY tag_count DESC\n",
    "\n",
    "SELECT books.authors, books.title, books.average_rating, btags.tag_id\n",
    "FROM BooksDB.dbo.book_tags AS btags\n",
    "INNER JOIN BooksDB.dbo.books AS books\n",
    "ON books.best_book_id = btags.goodreads_book_id\n",
    "WHERE (tag_id = 11643)\n",
    "ORDER BY books.average_rating DESC"
   ]
  },
  {
   "cell_type": "markdown",
   "metadata": {},
   "source": [
    "### Event 2: Choose another event from March/Spring\n",
    "\n",
    "Write a query to return authors, titles, ratings, and `tag_id` that you would want to promote during your chosen event.\n",
    "\n",
    "authors\t                            title\t                                    average_rating\ttag_id\n",
    "Barbara Cooney\t                    Miss Rumphius\t                            4.45\t        28460\n",
    "Arnold Lobel\t                    Frog and Toad All Year (Frog and Toad, #3)\t4.34\t        28460\n",
    "Robert McCloskey\t                Make Way for Ducklings\t                    4.21\t        28460\n",
    "P.D. Eastman\t                    The Best Nest\t                            4.19\t        28460\n",
    "Margaret Wise Brown, Clement Hurd\tThe Runaway Bunny\t                        4.14\t        28460\n",
    "Ruth Krauss, Crockett Johnson\t    The Carrot Seed\t                            4.07\t        28460\n",
    "David Shannon\t                    Duck On A Bike\t                            4.06\t        28460 \n",
    "\n"
   ]
  },
  {
   "cell_type": "code",
   "execution_count": null,
   "metadata": {
    "vscode": {
     "languageId": "sql"
    }
   },
   "outputs": [],
   "source": [
    "-- Solution\n",
    "SELECT tags.tag_id, Count(tags.tag_id) AS tag_count, tags.tag_name\n",
    "FROM BooksDB.dbo.tags AS tags\n",
    "INNER JOIN BooksDB.dbo.book_tags AS btags\n",
    "ON tags.tag_id = btags.tag_id\n",
    "Group by tags.tag_id, tags.tag_name\n",
    "HAVING tags.tag_name LIKE '%spring%'\n",
    "ORDER BY tag_count DESC\n",
    "\n",
    "SELECT books.authors, books.title, books.average_rating, btags.tag_id\n",
    "FROM BooksDB.dbo.book_tags AS btags\n",
    "INNER JOIN BooksDB.dbo.books AS books\n",
    "ON books.best_book_id = btags.goodreads_book_id\n",
    "WHERE (tag_id = 28460)\n",
    "ORDER BY books.average_rating DESC"
   ]
  },
  {
   "cell_type": "markdown",
   "metadata": {},
   "source": [
    "Record your thoughts about why you wrote the query the way you did."
   ]
  },
  {
   "cell_type": "markdown",
   "metadata": {},
   "source": [
    "# Part 2: Choose Another Month\n",
    "\n",
    "Choose another month and plan at least 2 events / promotions and answer the following questions:\n",
    "1. Which month did you choose? November\n",
    "1. What 2 events / promotions are you highlighting?  Veterans Day and Thanksgiving"
   ]
  },
  {
   "cell_type": "markdown",
   "metadata": {},
   "source": [
    "# Part 3: Summarize your Work\n",
    "\n",
    "For each event write at least one query that joins any two tables in `BooksDB` to support your choice and record you thoughts as to why you used the paticlular query. At least one of your queries needs to include a `HAVING` clause."
   ]
  },
  {
   "cell_type": "code",
   "execution_count": null,
   "metadata": {
    "vscode": {
     "languageId": "sql"
    }
   },
   "outputs": [],
   "source": [
    "-- Event 1 Query\n",
    "\n",
    "SELECT tags.tag_id, Count(tags.tag_id) AS tag_count, tags.tag_name\n",
    "FROM BooksDB.dbo.tags AS tags\n",
    "INNER JOIN BooksDB.dbo.book_tags AS btags\n",
    "ON tags.tag_id = btags.tag_id\n",
    "Group by tags.tag_id, tags.tag_name\n",
    "HAVING tags.tag_name LIKE '%military%' OR tags.tag_name LIKE '%veteran%'\n",
    "ORDER BY tag_count DESC\n",
    "\n",
    "SELECT books.authors, books.title, books.average_rating, btags.tag_id\n",
    "FROM BooksDB.dbo.book_tags AS btags\n",
    "INNER JOIN BooksDB.dbo.books AS books\n",
    "ON books.best_book_id = btags.goodreads_book_id\n",
    "WHERE (tag_id = 20047) OR (tag_id = 20054)\n",
    "ORDER BY books.average_rating DESC"
   ]
  },
  {
   "cell_type": "markdown",
   "metadata": {},
   "source": [
    "### Summarize Event 1\n",
    "\n",
    "I wanted to see that tag ids with a tag name related to the military or veterans for Veteran's Day.  Once I found the highest tagged military related tag names, I searched for the book titles and authors associated with the military."
   ]
  },
  {
   "cell_type": "code",
   "execution_count": null,
   "metadata": {
    "vscode": {
     "languageId": "sql"
    }
   },
   "outputs": [],
   "source": [
    "-- Event 2 Query\n",
    "\n",
    "SELECT tags.tag_id, Count(tags.tag_id) AS tag_count, tags.tag_name\n",
    "FROM BooksDB.dbo.tags AS tags\n",
    "INNER JOIN BooksDB.dbo.book_tags AS btags\n",
    "ON tags.tag_id = btags.tag_id\n",
    "Group by tags.tag_id, tags.tag_name\n",
    "HAVING tags.tag_name LIKE '%thanksgiving%' OR tags.tag_name LIKE '%pilgrim%'\n",
    "ORDER BY tag_count DESC\n",
    "\n",
    "SELECT books.authors, books.title, books.average_rating, btags.tag_id\n",
    "FROM BooksDB.dbo.book_tags AS btags\n",
    "INNER JOIN BooksDB.dbo.books AS books\n",
    "ON books.best_book_id = btags.goodreads_book_id\n",
    "WHERE (tag_id = 29599) or (tag_id = 23645) or (tag_id = 23646)\n",
    "ORDER BY books.average_rating DESC"
   ]
  },
  {
   "cell_type": "markdown",
   "metadata": {},
   "source": [
    "### Summarize Event 2\n",
    "\n",
    "I wanted to see that tag ids with a tag name related to Thanksgiving or pilgrims for Thanksgiving Day.  Once I found the highest tagged thanksgiving or pilgrim related tag names, I searched for the book titles and authors associated with these tags."
   ]
  }
 ],
 "metadata": {
  "language_info": {
   "name": "python"
  }
 },
 "nbformat": 4,
 "nbformat_minor": 2
}
