{
 "cells": [
  {
   "cell_type": "markdown",
   "metadata": {},
   "source": [
    "# Exercises: Creating, Updating, and Destroying Objects\n",
    "\n",
    "For the exercises, you will be working with objects and data you create. Before opening this notebook, make sure that you have set up the new connection to the server and that you have located the database and your schema.\n",
    "\n",
    "## Object Creation\n",
    "\n",
    "Before coding, think of three things you want to make. These could be coding projects, new recipes, or planned projects for a woodworking hobby. Brainstorm the appropriate column names and data types as well.\n",
    "\n",
    "Create a table under your schema called `planned_makes`."
   ]
  },
  {
   "cell_type": "code",
   "execution_count": null,
   "metadata": {
    "vscode": {
     "languageId": "sql"
    }
   },
   "outputs": [],
   "source": [
    "CREATE TABLE Sep2025JunkDB.nancy_pham.planned_makes (\n",
    "    project_name VARCHAR(50),\n",
    "    project_description VARCHAR(250),\n",
    "    items_needed VARCHAR(250),\n",
    "    project_deadline date,\n",
    "    completion_date date,\n",
    "    total_cost int\n",
    ");"
   ]
  },
  {
   "cell_type": "markdown",
   "metadata": {},
   "source": [
    "Add three rows to your table that are your planned makes."
   ]
  },
  {
   "cell_type": "code",
   "execution_count": null,
   "metadata": {
    "vscode": {
     "languageId": "sql"
    }
   },
   "outputs": [],
   "source": [
    "INSERT INTO Sep2025JunkDB.nancy_pham.planned_makes (project_name, project_description, items_needed, project_deadline, completion_date, total_cost)\n",
    "VALUES ('Bday card for Mary', '40th bday card with 40 candles on a cake', 'pink cardstock, stickers, markers', 10/31/2025, 10/28/2025, 5)\n",
    "VALUES ('Stickers for Halloween', 'assorted halloween and ghosts stickers', 'sticker paper, printer, cricut', 10/30/2025, 10/22/2025, 10)\n",
    "VALUES ('Place cards for Thanksgiving', 'Named place cards for thanksgiving dinner', 'cardstock, cricut, markers, names for dinner', 11/28/2025, 11/10/2025, 15)"
   ]
  },
  {
   "cell_type": "markdown",
   "metadata": {},
   "source": [
    "## Update a Row\n",
    "\n",
    "Change different values in one of your three rows."
   ]
  },
  {
   "cell_type": "code",
   "execution_count": null,
   "metadata": {
    "vscode": {
     "languageId": "sql"
    }
   },
   "outputs": [],
   "source": [
    "UPDATE Sep2025JunkDB.nancy_pham.planned_makes\n",
    "SET completion_date = 10/21/2025\n",
    "WHERE project_name = 'Bday card for Mary';"
   ]
  },
  {
   "cell_type": "markdown",
   "metadata": {},
   "source": [
    "## Delete a Row\n",
    "\n",
    "Delete one of the rows from your table."
   ]
  },
  {
   "cell_type": "code",
   "execution_count": null,
   "metadata": {
    "vscode": {
     "languageId": "sql"
    }
   },
   "outputs": [],
   "source": [
    "DELETE FROM Sep2025JunkDB.nancy_pham.planned_makes WHERE project_name = 'Bday card for Mary';"
   ]
  },
  {
   "cell_type": "markdown",
   "metadata": {},
   "source": [
    "## Drop the Table\n",
    "\n",
    "While this has been fun, it is time to drop the table!"
   ]
  },
  {
   "cell_type": "code",
   "execution_count": null,
   "metadata": {
    "vscode": {
     "languageId": "sql"
    }
   },
   "outputs": [],
   "source": [
    "DROP TABLE Sep2025JunkDB.nancy_pham.planned_makes"
   ]
  }
 ],
 "metadata": {
  "language_info": {
   "name": "python"
  }
 },
 "nbformat": 4,
 "nbformat_minor": 2
}
